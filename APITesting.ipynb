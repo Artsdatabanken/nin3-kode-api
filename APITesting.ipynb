{
 "cells": [
  {
   "cell_type": "markdown",
   "id": "fded4ee0-4861-439e-8bbd-fe6a39e17f5b",
   "metadata": {},
   "source": [
    "# NiN3 API testing (testmiljø og localhost)"
   ]
  },
  {
   "cell_type": "code",
   "execution_count": 15,
   "id": "ec0ad054-7186-405c-a4dc-3fd9034c1f5c",
   "metadata": {},
   "outputs": [],
   "source": [
    "## SETUP\n",
    "import requests as rq\n",
    "rq.packages.urllib3.disable_warnings()\n",
    "main_url = \"https://localhost:7113/api/\""
   ]
  },
  {
   "cell_type": "code",
   "execution_count": 2,
   "id": "82c6fbfb-beb4-4315-9dfa-cfd27f6df5bf",
   "metadata": {},
   "outputs": [],
   "source": []
  },
  {
   "cell_type": "markdown",
   "id": "a231b6a2-80a1-4906-b4ac-58da6ca96f5d",
   "metadata": {},
   "source": [
    "# HentDomener"
   ]
  },
  {
   "cell_type": "code",
   "execution_count": 28,
   "id": "3bb92a6d-675e-48cf-91c9-acccb854e426",
   "metadata": {},
   "outputs": [
    {
     "data": {
      "text/plain": [
       "{'Content-Type': 'application/json; charset=utf-8', 'Date': 'Fri, 28 Apr 2023 10:10:07 GMT', 'Server': 'Kestrel', 'Transfer-Encoding': 'chunked'}"
      ]
     },
     "metadata": {},
     "output_type": "display_data"
    },
    {
     "data": {
      "text/plain": [
       "[{'id': '970268f4-7c56-42c6-a52a-90d0017d0e48', 'navn': '3.0'}]"
      ]
     },
     "metadata": {},
     "output_type": "display_data"
    }
   ],
   "source": [
    "endpoint = main_url+\"Admin/HentDomener\"\n",
    "headers = {\"accept\":\"application/json\", \"User-Agent\":\"adb-ipython-klient\"}\n",
    "response = rq.get(endpoint, verify=False) #verify=False Dont check cert...\n",
    "assert response.status_code == 200 # no news is good news kinda test...\n",
    "assert type(response.json()) == list # Domene skal komme som in liste da det kan være flere versjoner av 3.* på sikt.\n",
    "display(response.headers)\n",
    "display(response.json())"
   ]
  }
 ],
 "metadata": {
  "kernelspec": {
   "display_name": "Python 3 (ipykernel)",
   "language": "python",
   "name": "python3"
  },
  "language_info": {
   "codemirror_mode": {
    "name": "ipython",
    "version": 3
   },
   "file_extension": ".py",
   "mimetype": "text/x-python",
   "name": "python",
   "nbconvert_exporter": "python",
   "pygments_lexer": "ipython3",
   "version": "3.9.12"
  }
 },
 "nbformat": 4,
 "nbformat_minor": 5
}
